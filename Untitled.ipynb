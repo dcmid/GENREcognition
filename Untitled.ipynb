{
 "cells": [
  {
   "cell_type": "code",
   "execution_count": 2,
   "metadata": {},
   "outputs": [
    {
     "data": {
      "text/html": [
       "<div>\n",
       "<style scoped>\n",
       "    .dataframe tbody tr th:only-of-type {\n",
       "        vertical-align: middle;\n",
       "    }\n",
       "\n",
       "    .dataframe tbody tr th {\n",
       "        vertical-align: top;\n",
       "    }\n",
       "\n",
       "    .dataframe thead th {\n",
       "        text-align: right;\n",
       "    }\n",
       "</style>\n",
       "<table border=\"1\" class=\"dataframe\">\n",
       "  <thead>\n",
       "    <tr style=\"text-align: right;\">\n",
       "      <th></th>\n",
       "      <th>track_id</th>\n",
       "      <th>genre_top</th>\n",
       "    </tr>\n",
       "  </thead>\n",
       "  <tbody>\n",
       "    <tr>\n",
       "      <th>0</th>\n",
       "      <td>2</td>\n",
       "      <td>Hip-Hop</td>\n",
       "    </tr>\n",
       "    <tr>\n",
       "      <th>1</th>\n",
       "      <td>5</td>\n",
       "      <td>Hip-Hop</td>\n",
       "    </tr>\n",
       "    <tr>\n",
       "      <th>2</th>\n",
       "      <td>10</td>\n",
       "      <td>Pop</td>\n",
       "    </tr>\n",
       "    <tr>\n",
       "      <th>3</th>\n",
       "      <td>140</td>\n",
       "      <td>Folk</td>\n",
       "    </tr>\n",
       "    <tr>\n",
       "      <th>4</th>\n",
       "      <td>141</td>\n",
       "      <td>Folk</td>\n",
       "    </tr>\n",
       "  </tbody>\n",
       "</table>\n",
       "</div>"
      ],
      "text/plain": [
       "   track_id genre_top\n",
       "0         2   Hip-Hop\n",
       "1         5   Hip-Hop\n",
       "2        10       Pop\n",
       "3       140      Folk\n",
       "4       141      Folk"
      ]
     },
     "execution_count": 2,
     "metadata": {},
     "output_type": "execute_result"
    }
   ],
   "source": [
    "import pandas as pd\n",
    "import numpy as np\n",
    "\n",
    "#read full metadata file\n",
    "metadata = pd.read_csv(\"./fma_metadata/tracks.csv\", skiprows=[0,2], low_memory=False)\n",
    "\n",
    "# drop all tracks that are not in fma_small dataset\n",
    "metadata = metadata[metadata[\"subset\"].eq(\"small\")]\n",
    "# add name to track_id column (missing because of stupid CSV formatting)\n",
    "metadata = metadata.rename(columns={\"Unnamed: 0\": \"track_id\"})\n",
    "# drop all columns that don't relate to genre\n",
    "# we will not have this metadata from the audio file\n",
    "metadata.drop(metadata.columns.difference([\"track_id\",\"genre_top\"]),1,inplace=True)\n",
    "# cast track id to integer\n",
    "metadata = metadata.astype({'track_id':np.int32})\n",
    "# reset indices accounting for dropped rows\n",
    "metadata = metadata.reset_index(drop=True)\n",
    "\n",
    "# #write only relevant metadata to file for use in training\n",
    "# metadata.to_csv(\"fma_small_genres.csv\")\n",
    "\n",
    "metadata.head()"
   ]
  },
  {
   "cell_type": "code",
   "execution_count": 3,
   "metadata": {},
   "outputs": [
    {
     "name": "stdout",
     "output_type": "stream",
     "text": [
      "['Hip-Hop' 'Pop' 'Folk' 'Experimental' 'Rock' 'International' 'Electronic'\n",
      " 'Instrumental']\n"
     ]
    }
   ],
   "source": [
    "# show 8 genres\n",
    "print(metadata[\"genre_top\"].unique())"
   ]
  },
  {
   "cell_type": "code",
   "execution_count": 4,
   "metadata": {},
   "outputs": [
    {
     "data": {
      "image/png": "[encoded data removed]",
      "text/plain": [
       "<Figure size 432x288 with 1 Axes>"
      ]
     },
     "metadata": {
      "needs_background": "light"
     },
     "output_type": "display_data"
    }
   ],
   "source": [
    "import matplotlib.pyplot as plt\n",
    "\n",
    "plt.hist(metadata[\"genre_top\"])\n",
    "plt.tight_layout()"
   ]
  },
  {
   "cell_type": "code",
   "execution_count": 26,
   "metadata": {},
   "outputs": [
    {
     "data": {
      "text/html": [
       "<div>\n",
       "<style scoped>\n",
       "    .dataframe tbody tr th:only-of-type {\n",
       "        vertical-align: middle;\n",
       "    }\n",
       "\n",
       "    .dataframe tbody tr th {\n",
       "        vertical-align: top;\n",
       "    }\n",
       "\n",
       "    .dataframe thead th {\n",
       "        text-align: right;\n",
       "    }\n",
       "</style>\n",
       "<table border=\"1\" class=\"dataframe\">\n",
       "  <thead>\n",
       "    <tr style=\"text-align: right;\">\n",
       "      <th></th>\n",
       "      <th>track_id</th>\n",
       "      <th>genre_top</th>\n",
       "    </tr>\n",
       "  </thead>\n",
       "  <tbody>\n",
       "    <tr>\n",
       "      <th>0</th>\n",
       "      <td>2</td>\n",
       "      <td>Hip-Hop</td>\n",
       "    </tr>\n",
       "  </tbody>\n",
       "</table>\n",
       "</div>"
      ],
      "text/plain": [
       "   track_id genre_top\n",
       "0         2   Hip-Hop"
      ]
     },
     "execution_count": 26,
     "metadata": {},
     "output_type": "execute_result"
    }
   ],
   "source": [
    "metadata[metadata['track_id'] == 2]"
   ]
  },
  {
   "cell_type": "markdown",
   "metadata": {},
   "source": [
    "MODEL STUFF"
   ]
  },
  {
   "cell_type": "code",
   "execution_count": 1,
   "metadata": {},
   "outputs": [],
   "source": [
    "import pandas as pd\n",
    "import numpy as np\n",
    "import sklearn.preprocessing as pp"
   ]
  },
  {
   "cell_type": "code",
   "execution_count": 2,
   "metadata": {},
   "outputs": [
    {
     "data": {
      "text/html": [
       "<div>\n",
       "<style scoped>\n",
       "    .dataframe tbody tr th:only-of-type {\n",
       "        vertical-align: middle;\n",
       "    }\n",
       "\n",
       "    .dataframe tbody tr th {\n",
       "        vertical-align: top;\n",
       "    }\n",
       "\n",
       "    .dataframe thead th {\n",
       "        text-align: right;\n",
       "    }\n",
       "</style>\n",
       "<table border=\"1\" class=\"dataframe\">\n",
       "  <thead>\n",
       "    <tr style=\"text-align: right;\">\n",
       "      <th></th>\n",
       "      <th>track_id</th>\n",
       "      <th>zcr_mean</th>\n",
       "      <th>zcr_var</th>\n",
       "      <th>spec_cent_mean</th>\n",
       "      <th>spec_cent_var</th>\n",
       "      <th>spec_roll_mean</th>\n",
       "      <th>spec_roll_var</th>\n",
       "      <th>mfccs_mean</th>\n",
       "      <th>mfccs_var</th>\n",
       "      <th>genre_top</th>\n",
       "    </tr>\n",
       "  </thead>\n",
       "  <tbody>\n",
       "    <tr>\n",
       "      <th>0</th>\n",
       "      <td>2</td>\n",
       "      <td>0.163695</td>\n",
       "      <td>0.008725</td>\n",
       "      <td>3037.644725</td>\n",
       "      <td>9.809958e+05</td>\n",
       "      <td>6214.647549</td>\n",
       "      <td>2.281126e+06</td>\n",
       "      <td>[-67.3842, 65.155075, -10.669196, 12.176932, -...</td>\n",
       "      <td>[2907.9536, 927.7224, 519.6038, 312.80936, 306...</td>\n",
       "      <td>Hip-Hop</td>\n",
       "    </tr>\n",
       "    <tr>\n",
       "      <th>1</th>\n",
       "      <td>5</td>\n",
       "      <td>0.100023</td>\n",
       "      <td>0.004433</td>\n",
       "      <td>2414.124259</td>\n",
       "      <td>7.569450e+05</td>\n",
       "      <td>5437.441882</td>\n",
       "      <td>2.535670e+06</td>\n",
       "      <td>[-106.58773, 87.23936, 12.156827, 24.140398, -...</td>\n",
       "      <td>[2197.3853, 843.6833, 457.25446, 314.9391, 276...</td>\n",
       "      <td>Hip-Hop</td>\n",
       "    </tr>\n",
       "    <tr>\n",
       "      <th>2</th>\n",
       "      <td>10</td>\n",
       "      <td>0.148674</td>\n",
       "      <td>0.000798</td>\n",
       "      <td>2349.559292</td>\n",
       "      <td>1.419561e+05</td>\n",
       "      <td>4315.856035</td>\n",
       "      <td>6.900174e+05</td>\n",
       "      <td>[-17.238174, 94.44203, -48.614548, 32.370766, ...</td>\n",
       "      <td>[797.04956, 417.18228, 307.51672, 135.75954, 1...</td>\n",
       "      <td>Pop</td>\n",
       "    </tr>\n",
       "    <tr>\n",
       "      <th>3</th>\n",
       "      <td>140</td>\n",
       "      <td>0.044322</td>\n",
       "      <td>0.002694</td>\n",
       "      <td>1746.322280</td>\n",
       "      <td>1.049483e+06</td>\n",
       "      <td>3863.175065</td>\n",
       "      <td>5.928252e+06</td>\n",
       "      <td>[-278.57538, 101.53074, 36.42724, 35.59012, 26...</td>\n",
       "      <td>[7312.72, 1265.0995, 471.97086, 237.86455, 195...</td>\n",
       "      <td>Folk</td>\n",
       "    </tr>\n",
       "    <tr>\n",
       "      <th>4</th>\n",
       "      <td>141</td>\n",
       "      <td>0.061836</td>\n",
       "      <td>0.002676</td>\n",
       "      <td>1654.237111</td>\n",
       "      <td>6.403904e+05</td>\n",
       "      <td>3315.637916</td>\n",
       "      <td>2.762245e+06</td>\n",
       "      <td>[-208.56926, 116.633934, -1.7237115, 26.018599...</td>\n",
       "      <td>[12825.669, 1198.2709, 278.61575, 253.6174, 20...</td>\n",
       "      <td>Folk</td>\n",
       "    </tr>\n",
       "  </tbody>\n",
       "</table>\n",
       "</div>"
      ],
      "text/plain": [
       "   track_id  zcr_mean   zcr_var  spec_cent_mean  spec_cent_var  \\\n",
       "0         2  0.163695  0.008725     3037.644725   9.809958e+05   \n",
       "1         5  0.100023  0.004433     2414.124259   7.569450e+05   \n",
       "2        10  0.148674  0.000798     2349.559292   1.419561e+05   \n",
       "3       140  0.044322  0.002694     1746.322280   1.049483e+06   \n",
       "4       141  0.061836  0.002676     1654.237111   6.403904e+05   \n",
       "\n",
       "   spec_roll_mean  spec_roll_var  \\\n",
       "0     6214.647549   2.281126e+06   \n",
       "1     5437.441882   2.535670e+06   \n",
       "2     4315.856035   6.900174e+05   \n",
       "3     3863.175065   5.928252e+06   \n",
       "4     3315.637916   2.762245e+06   \n",
       "\n",
       "                                          mfccs_mean  \\\n",
       "0  [-67.3842, 65.155075, -10.669196, 12.176932, -...   \n",
       "1  [-106.58773, 87.23936, 12.156827, 24.140398, -...   \n",
       "2  [-17.238174, 94.44203, -48.614548, 32.370766, ...   \n",
       "3  [-278.57538, 101.53074, 36.42724, 35.59012, 26...   \n",
       "4  [-208.56926, 116.633934, -1.7237115, 26.018599...   \n",
       "\n",
       "                                           mfccs_var genre_top  \n",
       "0  [2907.9536, 927.7224, 519.6038, 312.80936, 306...   Hip-Hop  \n",
       "1  [2197.3853, 843.6833, 457.25446, 314.9391, 276...   Hip-Hop  \n",
       "2  [797.04956, 417.18228, 307.51672, 135.75954, 1...       Pop  \n",
       "3  [7312.72, 1265.0995, 471.97086, 237.86455, 195...      Folk  \n",
       "4  [12825.669, 1198.2709, 278.61575, 253.6174, 20...      Folk  "
      ]
     },
     "execution_count": 2,
     "metadata": {},
     "output_type": "execute_result"
    }
   ],
   "source": [
    "#read data from .pkl object file\n",
    "df = pd.read_pickle('labels_features.pkl')\n",
    "df.head()"
   ]
  },
  {
   "cell_type": "code",
   "execution_count": 30,
   "metadata": {},
   "outputs": [],
   "source": [
    "#drop audio with no associated genre\n",
    "df = df[np.array(df['genre_top']).astype(str) != \"nan\"]"
   ]
  },
  {
   "cell_type": "code",
   "execution_count": 32,
   "metadata": {},
   "outputs": [
    {
     "data": {
      "text/plain": [
       "-11"
      ]
     },
     "execution_count": 32,
     "metadata": {},
     "output_type": "execute_result"
    }
   ],
   "source": [
    "len(df2) - len(df)"
   ]
  }
 ],
 "metadata": {
  "kernelspec": {
   "display_name": "Python 3",
   "language": "python",
   "name": "python3"
  },
  "language_info": {
   "codemirror_mode": {
    "name": "ipython",
    "version": 3
   },
   "file_extension": ".py",
   "mimetype": "text/x-python",
   "name": "python",
   "nbconvert_exporter": "python",
   "pygments_lexer": "ipython3",
   "version": "3.7.6"
  }
 },
 "nbformat": 4,
 "nbformat_minor": 4
}
