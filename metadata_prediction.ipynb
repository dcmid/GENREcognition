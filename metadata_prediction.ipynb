{
 "cells": [
  {
   "cell_type": "code",
   "execution_count": 1,
   "metadata": {},
   "outputs": [],
   "source": [
    "import numpy as np"
   ]
  },
  {
   "cell_type": "code",
   "execution_count": 2,
   "metadata": {},
   "outputs": [],
   "source": [
    "import pandas as pd\n",
    "\n",
    "#read full metadata file\n",
    "metadata = pd.read_csv(\"./fma_metadata/tracks.csv\", skiprows=[0,2], low_memory=False)"
   ]
  },
  {
   "cell_type": "code",
   "execution_count": 3,
   "metadata": {},
   "outputs": [],
   "source": [
    "metadata = metadata[metadata[\"subset\"].eq(\"small\")]\n",
    "metadata = metadata.rename(columns={\"Unnamed: 0\": \"track_id\"})"
   ]
  },
  {
   "cell_type": "code",
   "execution_count": 4,
   "metadata": {},
   "outputs": [
    {
     "name": "stdout",
     "output_type": "stream",
     "text": [
      "Index(['track_id', 'comments', 'date_created', 'date_released', 'engineer',\n",
      "       'favorites', 'id', 'information', 'listens', 'producer',\n",
      "       ...\n",
      "       'Unnamed: 94', 'Unnamed: 95', 'Unnamed: 96', 'Unnamed: 97',\n",
      "       'Unnamed: 98', 'Unnamed: 99', 'Unnamed: 100', 'Unnamed: 101',\n",
      "       'Unnamed: 102', 'Unnamed: 103'],\n",
      "      dtype='object', length=104)\n",
      "(7989, 104)\n"
     ]
    }
   ],
   "source": [
    "print(metadata.columns)\n",
    "print(metadata.shape)\n",
    "# print(metadata.head())"
   ]
  },
  {
   "cell_type": "code",
   "execution_count": 9,
   "metadata": {},
   "outputs": [
    {
     "data": {
      "text/plain": [
       "<matplotlib.axes._subplots.AxesSubplot at 0x15e054fc188>"
      ]
     },
     "execution_count": 9,
     "metadata": {},
     "output_type": "execute_result"
    },
    {
     "data": {
      "image/png": "[encoded data removed]",
      "text/plain": [
       "<Figure size 432x288 with 1 Axes>"
      ]
     },
     "metadata": {
      "needs_background": "light"
     },
     "output_type": "display_data"
    }
   ],
   "source": [
    "import seaborn as sns\n",
    "sns.heatmap(metadata.isna(), yticklabels=False, cbar=False)"
   ]
  },
  {
   "cell_type": "code",
   "execution_count": 6,
   "metadata": {},
   "outputs": [],
   "source": [
    "missing_value_drop_threshold = 0.7\n",
    "metadata_missing = metadata.isna().sum() / metadata.shape[0]\n",
    "metadata.drop(metadata_missing[metadata_missing > missing_value_drop_threshold].index, axis = 1, inplace = True)"
   ]
  },
  {
   "cell_type": "code",
   "execution_count": 7,
   "metadata": {},
   "outputs": [
    {
     "name": "stdout",
     "output_type": "stream",
     "text": [
      "Index(['track_id', 'comments', 'date_created', 'date_released', 'favorites',\n",
      "       'id', 'information', 'listens', 'tags', 'title', 'tracks', 'type',\n",
      "       'bio', 'comments.1', 'date_created.1', 'favorites.1', 'id.1',\n",
      "       'latitude', 'location', 'longitude', 'members', 'name', 'tags.1',\n",
      "       'website', 'split', 'subset', 'bit_rate', 'comments.2',\n",
      "       'date_created.2', 'duration', 'favorites.2', 'genre_top', 'genres',\n",
      "       'genres_all', 'interest', 'license', 'listens.1', 'number', 'tags.2',\n",
      "       'title.1'],\n",
      "      dtype='object')\n"
     ]
    }
   ],
   "source": [
    "print(metadata.columns)"
   ]
  },
  {
   "cell_type": "code",
   "execution_count": 8,
   "metadata": {},
   "outputs": [],
   "source": [
    "metadata.head()\n",
    "train_data = metadata.drop(['id', 'genres', 'genres_all'] ,axis = 1)"
   ]
  },
  {
   "cell_type": "code",
   "execution_count": 10,
   "metadata": {},
   "outputs": [
    {
     "data": {
      "text/html": [
       "<div>\n",
       "<style scoped>\n",
       "    .dataframe tbody tr th:only-of-type {\n",
       "        vertical-align: middle;\n",
       "    }\n",
       "\n",
       "    .dataframe tbody tr th {\n",
       "        vertical-align: top;\n",
       "    }\n",
       "\n",
       "    .dataframe thead th {\n",
       "        text-align: right;\n",
       "    }\n",
       "</style>\n",
       "<table border=\"1\" class=\"dataframe\">\n",
       "  <thead>\n",
       "    <tr style=\"text-align: right;\">\n",
       "      <th></th>\n",
       "      <th>title</th>\n",
       "      <th>tracks</th>\n",
       "      <th>type</th>\n",
       "      <th>bio</th>\n",
       "      <th>latitude</th>\n",
       "      <th>location</th>\n",
       "      <th>longitude</th>\n",
       "      <th>members</th>\n",
       "      <th>name</th>\n",
       "      <th>website</th>\n",
       "      <th>split</th>\n",
       "      <th>bit_rate</th>\n",
       "      <th>duration</th>\n",
       "      <th>genre_top</th>\n",
       "    </tr>\n",
       "  </thead>\n",
       "  <tbody>\n",
       "    <tr>\n",
       "      <th>0</th>\n",
       "      <td>AWOL - A Way Of Life</td>\n",
       "      <td>7</td>\n",
       "      <td>Album</td>\n",
       "      <td>&lt;p&gt;A Way Of Life, A Collective of Hip-Hop from...</td>\n",
       "      <td>40.0583238</td>\n",
       "      <td>New Jersey</td>\n",
       "      <td>-74.4056612</td>\n",
       "      <td>Sajje Morocco,Brownbum,ZawidaGod,Custodian of ...</td>\n",
       "      <td>AWOL</td>\n",
       "      <td>http://www.AzillionRecords.blogspot.com</td>\n",
       "      <td>training</td>\n",
       "      <td>256000</td>\n",
       "      <td>168</td>\n",
       "      <td>Hip-Hop</td>\n",
       "    </tr>\n",
       "    <tr>\n",
       "      <th>2</th>\n",
       "      <td>AWOL - A Way Of Life</td>\n",
       "      <td>7</td>\n",
       "      <td>Album</td>\n",
       "      <td>&lt;p&gt;A Way Of Life, A Collective of Hip-Hop from...</td>\n",
       "      <td>40.0583238</td>\n",
       "      <td>New Jersey</td>\n",
       "      <td>-74.4056612</td>\n",
       "      <td>Sajje Morocco,Brownbum,ZawidaGod,Custodian of ...</td>\n",
       "      <td>AWOL</td>\n",
       "      <td>http://www.AzillionRecords.blogspot.com</td>\n",
       "      <td>training</td>\n",
       "      <td>256000</td>\n",
       "      <td>206</td>\n",
       "      <td>Hip-Hop</td>\n",
       "    </tr>\n",
       "    <tr>\n",
       "      <th>3</th>\n",
       "      <td>Constant Hitmaker</td>\n",
       "      <td>2</td>\n",
       "      <td>Album</td>\n",
       "      <td>&lt;p&gt;&lt;span style=\"font-family:Verdana, Geneva, A...</td>\n",
       "      <td>NaN</td>\n",
       "      <td>NaN</td>\n",
       "      <td>NaN</td>\n",
       "      <td>Kurt Vile, the Violators</td>\n",
       "      <td>Kurt Vile</td>\n",
       "      <td>http://kurtvile.com</td>\n",
       "      <td>training</td>\n",
       "      <td>192000</td>\n",
       "      <td>161</td>\n",
       "      <td>Pop</td>\n",
       "    </tr>\n",
       "    <tr>\n",
       "      <th>15</th>\n",
       "      <td>The Blind Spot</td>\n",
       "      <td>1</td>\n",
       "      <td>Album</td>\n",
       "      <td>&lt;p&gt;The Eyesores originally formed in 1997 orig...</td>\n",
       "      <td>41.8239891</td>\n",
       "      <td>Providence, RI</td>\n",
       "      <td>-71.4128343</td>\n",
       "      <td>NaN</td>\n",
       "      <td>Alec K. Redfearn &amp; the Eyesores</td>\n",
       "      <td>http://www.aleckredfearn.com</td>\n",
       "      <td>training</td>\n",
       "      <td>128000</td>\n",
       "      <td>253</td>\n",
       "      <td>Folk</td>\n",
       "    </tr>\n",
       "    <tr>\n",
       "      <th>16</th>\n",
       "      <td>Every Man For Himself</td>\n",
       "      <td>2</td>\n",
       "      <td>Album</td>\n",
       "      <td>&lt;p&gt;The Eyesores originally formed in 1997 orig...</td>\n",
       "      <td>41.8239891</td>\n",
       "      <td>Providence, RI</td>\n",
       "      <td>-71.4128343</td>\n",
       "      <td>NaN</td>\n",
       "      <td>Alec K. Redfearn &amp; the Eyesores</td>\n",
       "      <td>http://www.aleckredfearn.com</td>\n",
       "      <td>training</td>\n",
       "      <td>128000</td>\n",
       "      <td>182</td>\n",
       "      <td>Folk</td>\n",
       "    </tr>\n",
       "    <tr>\n",
       "      <th>...</th>\n",
       "      <td>...</td>\n",
       "      <td>...</td>\n",
       "      <td>...</td>\n",
       "      <td>...</td>\n",
       "      <td>...</td>\n",
       "      <td>...</td>\n",
       "      <td>...</td>\n",
       "      <td>...</td>\n",
       "      <td>...</td>\n",
       "      <td>...</td>\n",
       "      <td>...</td>\n",
       "      <td>...</td>\n",
       "      <td>...</td>\n",
       "      <td>...</td>\n",
       "    </tr>\n",
       "    <tr>\n",
       "      <th>135602</th>\n",
       "      <td>Journey</td>\n",
       "      <td>18</td>\n",
       "      <td>Album</td>\n",
       "      <td>&lt;p&gt;Fleslit is a producer (also known as Brando...</td>\n",
       "      <td>NaN</td>\n",
       "      <td>Hong Kong</td>\n",
       "      <td>NaN</td>\n",
       "      <td>Brandon Welch</td>\n",
       "      <td>Fleslit</td>\n",
       "      <td>https://soundcloud.com/fleslit</td>\n",
       "      <td>test</td>\n",
       "      <td>320000</td>\n",
       "      <td>194</td>\n",
       "      <td>Hip-Hop</td>\n",
       "    </tr>\n",
       "    <tr>\n",
       "      <th>135603</th>\n",
       "      <td>Journey</td>\n",
       "      <td>18</td>\n",
       "      <td>Album</td>\n",
       "      <td>&lt;p&gt;Fleslit is a producer (also known as Brando...</td>\n",
       "      <td>NaN</td>\n",
       "      <td>Hong Kong</td>\n",
       "      <td>NaN</td>\n",
       "      <td>Brandon Welch</td>\n",
       "      <td>Fleslit</td>\n",
       "      <td>https://soundcloud.com/fleslit</td>\n",
       "      <td>test</td>\n",
       "      <td>320000</td>\n",
       "      <td>162</td>\n",
       "      <td>Hip-Hop</td>\n",
       "    </tr>\n",
       "    <tr>\n",
       "      <th>135704</th>\n",
       "      <td>Live at WFMU for Dark Night of the Soul wtih J...</td>\n",
       "      <td>11</td>\n",
       "      <td>Live Performance</td>\n",
       "      <td>&lt;p&gt;Tasseomancy is the musical project of siste...</td>\n",
       "      <td>NaN</td>\n",
       "      <td>Toronto, Ontario</td>\n",
       "      <td>NaN</td>\n",
       "      <td>Romy Lightman\\nSari Lightman\\nEleven Cartwrigh...</td>\n",
       "      <td>Tasseomancy</td>\n",
       "      <td>https://tasseomancy.bandcamp.com/</td>\n",
       "      <td>training</td>\n",
       "      <td>320000</td>\n",
       "      <td>349</td>\n",
       "      <td>Pop</td>\n",
       "    </tr>\n",
       "    <tr>\n",
       "      <th>135705</th>\n",
       "      <td>Live at WFMU for Dark Night of the Soul wtih J...</td>\n",
       "      <td>11</td>\n",
       "      <td>Live Performance</td>\n",
       "      <td>&lt;p&gt;Tasseomancy is the musical project of siste...</td>\n",
       "      <td>NaN</td>\n",
       "      <td>Toronto, Ontario</td>\n",
       "      <td>NaN</td>\n",
       "      <td>Romy Lightman\\nSari Lightman\\nEleven Cartwrigh...</td>\n",
       "      <td>Tasseomancy</td>\n",
       "      <td>https://tasseomancy.bandcamp.com/</td>\n",
       "      <td>training</td>\n",
       "      <td>320000</td>\n",
       "      <td>346</td>\n",
       "      <td>Pop</td>\n",
       "    </tr>\n",
       "    <tr>\n",
       "      <th>136452</th>\n",
       "      <td>Horizon</td>\n",
       "      <td>4</td>\n",
       "      <td>Album</td>\n",
       "      <td>&lt;p&gt;Here's where you can buy my albums online a...</td>\n",
       "      <td>NaN</td>\n",
       "      <td>NaN</td>\n",
       "      <td>NaN</td>\n",
       "      <td>NaN</td>\n",
       "      <td>JBlanked</td>\n",
       "      <td>www.jblanked.com</td>\n",
       "      <td>training</td>\n",
       "      <td>320000</td>\n",
       "      <td>252</td>\n",
       "      <td>Hip-Hop</td>\n",
       "    </tr>\n",
       "  </tbody>\n",
       "</table>\n",
       "<p>7989 rows × 14 columns</p>\n",
       "</div>"
      ],
      "text/plain": [
       "                                                    title tracks  \\\n",
       "0                                    AWOL - A Way Of Life      7   \n",
       "2                                    AWOL - A Way Of Life      7   \n",
       "3                                       Constant Hitmaker      2   \n",
       "15                                         The Blind Spot      1   \n",
       "16                                  Every Man For Himself      2   \n",
       "...                                                   ...    ...   \n",
       "135602                                            Journey     18   \n",
       "135603                                            Journey     18   \n",
       "135704  Live at WFMU for Dark Night of the Soul wtih J...     11   \n",
       "135705  Live at WFMU for Dark Night of the Soul wtih J...     11   \n",
       "136452                                            Horizon      4   \n",
       "\n",
       "                    type                                                bio  \\\n",
       "0                  Album  <p>A Way Of Life, A Collective of Hip-Hop from...   \n",
       "2                  Album  <p>A Way Of Life, A Collective of Hip-Hop from...   \n",
       "3                  Album  <p><span style=\"font-family:Verdana, Geneva, A...   \n",
       "15                 Album  <p>The Eyesores originally formed in 1997 orig...   \n",
       "16                 Album  <p>The Eyesores originally formed in 1997 orig...   \n",
       "...                  ...                                                ...   \n",
       "135602             Album  <p>Fleslit is a producer (also known as Brando...   \n",
       "135603             Album  <p>Fleslit is a producer (also known as Brando...   \n",
       "135704  Live Performance  <p>Tasseomancy is the musical project of siste...   \n",
       "135705  Live Performance  <p>Tasseomancy is the musical project of siste...   \n",
       "136452             Album  <p>Here's where you can buy my albums online a...   \n",
       "\n",
       "          latitude          location    longitude  \\\n",
       "0       40.0583238        New Jersey  -74.4056612   \n",
       "2       40.0583238        New Jersey  -74.4056612   \n",
       "3              NaN               NaN          NaN   \n",
       "15      41.8239891    Providence, RI  -71.4128343   \n",
       "16      41.8239891    Providence, RI  -71.4128343   \n",
       "...            ...               ...          ...   \n",
       "135602         NaN         Hong Kong          NaN   \n",
       "135603         NaN         Hong Kong          NaN   \n",
       "135704         NaN  Toronto, Ontario          NaN   \n",
       "135705         NaN  Toronto, Ontario          NaN   \n",
       "136452         NaN               NaN          NaN   \n",
       "\n",
       "                                                  members  \\\n",
       "0       Sajje Morocco,Brownbum,ZawidaGod,Custodian of ...   \n",
       "2       Sajje Morocco,Brownbum,ZawidaGod,Custodian of ...   \n",
       "3                                Kurt Vile, the Violators   \n",
       "15                                                    NaN   \n",
       "16                                                    NaN   \n",
       "...                                                   ...   \n",
       "135602                                      Brandon Welch   \n",
       "135603                                      Brandon Welch   \n",
       "135704  Romy Lightman\\nSari Lightman\\nEleven Cartwrigh...   \n",
       "135705  Romy Lightman\\nSari Lightman\\nEleven Cartwrigh...   \n",
       "136452                                                NaN   \n",
       "\n",
       "                                   name  \\\n",
       "0                                  AWOL   \n",
       "2                                  AWOL   \n",
       "3                             Kurt Vile   \n",
       "15      Alec K. Redfearn & the Eyesores   \n",
       "16      Alec K. Redfearn & the Eyesores   \n",
       "...                                 ...   \n",
       "135602                          Fleslit   \n",
       "135603                          Fleslit   \n",
       "135704                      Tasseomancy   \n",
       "135705                      Tasseomancy   \n",
       "136452                         JBlanked   \n",
       "\n",
       "                                        website     split bit_rate duration  \\\n",
       "0       http://www.AzillionRecords.blogspot.com  training   256000      168   \n",
       "2       http://www.AzillionRecords.blogspot.com  training   256000      206   \n",
       "3                           http://kurtvile.com  training   192000      161   \n",
       "15                 http://www.aleckredfearn.com  training   128000      253   \n",
       "16                 http://www.aleckredfearn.com  training   128000      182   \n",
       "...                                         ...       ...      ...      ...   \n",
       "135602           https://soundcloud.com/fleslit      test   320000      194   \n",
       "135603           https://soundcloud.com/fleslit      test   320000      162   \n",
       "135704        https://tasseomancy.bandcamp.com/  training   320000      349   \n",
       "135705        https://tasseomancy.bandcamp.com/  training   320000      346   \n",
       "136452                         www.jblanked.com  training   320000      252   \n",
       "\n",
       "       genre_top  \n",
       "0        Hip-Hop  \n",
       "2        Hip-Hop  \n",
       "3            Pop  \n",
       "15          Folk  \n",
       "16          Folk  \n",
       "...          ...  \n",
       "135602   Hip-Hop  \n",
       "135603   Hip-Hop  \n",
       "135704       Pop  \n",
       "135705       Pop  \n",
       "136452   Hip-Hop  \n",
       "\n",
       "[7989 rows x 14 columns]"
      ]
     },
     "metadata": {},
     "output_type": "display_data"
    }
   ],
   "source": [
    "# print(train_data.columns)\n",
    "# display(train_data.head())\n",
    "display(train_data[['title', 'tracks', 'type',\n",
    "       'bio',\n",
    "       'latitude', 'location', 'longitude', 'members', 'name', \n",
    "       'website', 'split', 'bit_rate',\n",
    "        'duration', 'genre_top']])\n"
   ]
  },
  {
   "cell_type": "code",
   "execution_count": 11,
   "metadata": {},
   "outputs": [],
   "source": [
    "from sklearn import preprocessing\n",
    "X = train_data.drop('genre_top', axis = 1)\n",
    "le = preprocessing.LabelEncoder()\n",
    "\n",
    "\n",
    "for name in X.columns:\n",
    "    if X[name].dtypes == \"O\":\n",
    "        X[name] = X[name].astype(str)\n",
    "        le.fit(X[name])\n",
    "        X[name] = le.transform(X[name])"
   ]
  },
  {
   "cell_type": "code",
   "execution_count": 12,
   "metadata": {},
   "outputs": [
    {
     "data": {
      "text/plain": [
       "<matplotlib.axes._subplots.AxesSubplot at 0x15e04a09048>"
      ]
     },
     "execution_count": 12,
     "metadata": {},
     "output_type": "execute_result"
    },
    {
     "data": {
      "image/png": "[encoded data removed]",
      "text/plain": [
       "<Figure size 432x288 with 1 Axes>"
      ]
     },
     "metadata": {
      "needs_background": "light"
     },
     "output_type": "display_data"
    }
   ],
   "source": [
    "X.fillna(method='bfill', inplace=True)\n",
    "X.fillna(method='ffill', inplace=True)\n",
    "sns.heatmap(X.isna(), yticklabels=False, cbar=False)"
   ]
  },
  {
   "cell_type": "code",
   "execution_count": 13,
   "metadata": {},
   "outputs": [
    {
     "name": "stderr",
     "output_type": "stream",
     "text": [
      "C:\\Users\\dclay\\anaconda3\\lib\\site-packages\\sklearn\\feature_selection\\_univariate_selection.py:115: UserWarning: Features [24] are constant.\n",
      "  UserWarning)\n",
      "C:\\Users\\dclay\\anaconda3\\lib\\site-packages\\sklearn\\feature_selection\\_univariate_selection.py:116: RuntimeWarning: invalid value encountered in true_divide\n",
      "  f = msb / msw\n"
     ]
    }
   ],
   "source": [
    "# x = X.drop(['track_id', 'information','subset'],axis = 1)\n",
    "# x = X[['comments', 'date_created', 'date_released', 'favorites',\n",
    "#     'information', 'listens', 'tags', 'title', 'tracks', 'type',\n",
    "#        'bio', 'comments.1', 'date_created.1', 'favorites.1',\n",
    "#        'latitude', 'location', 'longitude', 'members', 'name', 'tags.1',\n",
    "#        'website', 'split', 'bit_rate', 'comments.2',\n",
    "#        'date_created.2', 'duration', 'favorites.2',\n",
    "#     'interest', 'license', 'listens.1', 'number', 'tags.2',\n",
    "#        'title.1']]\n",
    "# x = X\n",
    "from sklearn.feature_selection import SelectKBest\n",
    "from sklearn.feature_selection import f_classif\n",
    "\n",
    "selector = SelectKBest(f_classif, k=10)\n",
    "selected_features = selector.fit_transform(X, train_data['genre_top'])"
   ]
  },
  {
   "cell_type": "code",
   "execution_count": 14,
   "metadata": {},
   "outputs": [],
   "source": [
    "f_score_indexes = (-selector.scores_).argsort()[:10]\n",
    "x = X[X.columns[f_score_indexes]]"
   ]
  },
  {
   "cell_type": "code",
   "execution_count": 15,
   "metadata": {},
   "outputs": [],
   "source": [
    "from sklearn.model_selection import train_test_split\n",
    "from ast import literal_eval\n",
    "\n",
    "y_lab = np.array(train_data['genre_top'],dtype=str) #labels\n",
    "\n",
    "#encode labels as numbers\n",
    "le = preprocessing.LabelEncoder()\n",
    "le.fit(y_lab)\n",
    "y = le.transform(y_lab)\n",
    "\n",
    "#train/test split\n",
    "x_train, x_test, y_train, y_test = train_test_split(x, y, test_size=0.2, random_state=42)"
   ]
  },
  {
   "cell_type": "code",
   "execution_count": 18,
   "metadata": {},
   "outputs": [
    {
     "data": {
      "text/plain": [
       "array(['Electronic', 'Experimental', 'Folk', 'Hip-Hop', 'Instrumental',\n",
       "       'International', 'Pop', 'Rock'], dtype='<U13')"
      ]
     },
     "execution_count": 18,
     "metadata": {},
     "output_type": "execute_result"
    }
   ],
   "source": [
    "np.unique(y_lab)"
   ]
  },
  {
   "cell_type": "code",
   "execution_count": null,
   "metadata": {},
   "outputs": [],
   "source": [
    "from sklearn import svm\n",
    "\n",
    "clf = svm.SVC()\n",
    "clf.fit(x_train, y_train)\n",
    "clf.score(x_test,y_test)"
   ]
  },
  {
   "cell_type": "code",
   "execution_count": 169,
   "metadata": {},
   "outputs": [
    {
     "data": {
      "text/plain": [
       "0.8425"
      ]
     },
     "execution_count": 169,
     "metadata": {},
     "output_type": "execute_result"
    }
   ],
   "source": [
    "from sklearn.ensemble import RandomForestClassifier\n",
    "\n",
    "rf = RandomForestClassifier()\n",
    "rf.fit(x_train, y_train)\n",
    "rf.score(x_test,y_test)"
   ]
  },
  {
   "cell_type": "code",
   "execution_count": 170,
   "metadata": {},
   "outputs": [
    {
     "data": {
      "text/plain": [
       "0.708125"
      ]
     },
     "execution_count": 170,
     "metadata": {},
     "output_type": "execute_result"
    }
   ],
   "source": [
    "from sklearn.neighbors import KNeighborsClassifier\n",
    "\n",
    "kn = KNeighborsClassifier()\n",
    "kn.fit(x_train, y_train)\n",
    "kn.score(x_test, y_test)"
   ]
  },
  {
   "cell_type": "code",
   "execution_count": 171,
   "metadata": {},
   "outputs": [
    {
     "name": "stdout",
     "output_type": "stream",
     "text": [
      "Epoch 1/20\n",
      "50/50 [==============================] - 0s 1ms/step - loss: 2351.9780 - accuracy: 0.1583\n",
      "Epoch 2/20\n",
      "50/50 [==============================] - 0s 1ms/step - loss: 447.8646 - accuracy: 0.1853\n",
      "Epoch 3/20\n",
      "50/50 [==============================] - 0s 1ms/step - loss: 393.8481 - accuracy: 0.1945\n",
      "Epoch 4/20\n",
      "50/50 [==============================] - 0s 1ms/step - loss: 383.0605 - accuracy: 0.2013\n",
      "Epoch 5/20\n",
      "50/50 [==============================] - 0s 1ms/step - loss: 425.0741 - accuracy: 0.1889\n",
      "Epoch 6/20\n",
      "50/50 [==============================] - 0s 1ms/step - loss: 323.3566 - accuracy: 0.1975\n",
      "Epoch 7/20\n",
      "50/50 [==============================] - 0s 1ms/step - loss: 280.8384 - accuracy: 0.2141\n",
      "Epoch 8/20\n",
      "50/50 [==============================] - 0s 1ms/step - loss: 278.3489 - accuracy: 0.2134\n",
      "Epoch 9/20\n",
      "50/50 [==============================] - 0s 1ms/step - loss: 262.5099 - accuracy: 0.2067\n",
      "Epoch 10/20\n",
      "50/50 [==============================] - 0s 1ms/step - loss: 189.2116 - accuracy: 0.2178\n",
      "Epoch 11/20\n",
      "50/50 [==============================] - 0s 1ms/step - loss: 184.0623 - accuracy: 0.2222\n",
      "Epoch 12/20\n",
      "50/50 [==============================] - 0s 1ms/step - loss: 164.9664 - accuracy: 0.2158\n",
      "Epoch 13/20\n",
      "50/50 [==============================] - 0s 1ms/step - loss: 198.6376 - accuracy: 0.2217\n",
      "Epoch 14/20\n",
      "50/50 [==============================] - 0s 1ms/step - loss: 140.3202 - accuracy: 0.2256\n",
      "Epoch 15/20\n",
      "50/50 [==============================] - 0s 1ms/step - loss: 156.1635 - accuracy: 0.2373\n",
      "Epoch 16/20\n",
      "50/50 [==============================] - 0s 1ms/step - loss: 113.1507 - accuracy: 0.2264\n",
      "Epoch 17/20\n",
      "50/50 [==============================] - 0s 1ms/step - loss: 101.0661 - accuracy: 0.2420\n",
      "Epoch 18/20\n",
      "50/50 [==============================] - 0s 1ms/step - loss: 100.2231 - accuracy: 0.2362\n",
      "Epoch 19/20\n",
      "50/50 [==============================] - 0s 1ms/step - loss: 114.6935 - accuracy: 0.2267\n",
      "Epoch 20/20\n",
      "50/50 [==============================] - 0s 1ms/step - loss: 100.6823 - accuracy: 0.2264\n",
      "50/50 [==============================] - 0s 594us/step - loss: 79.7793 - accuracy: 0.2456\n",
      "0.24562500417232513\n"
     ]
    }
   ],
   "source": [
    "from keras import models\n",
    "from keras import layers\n",
    "from keras.layers import Dropout\n",
    "\n",
    "model = models.Sequential()\n",
    "model.add(layers.Dense(256, activation='relu', input_shape=(x_train.shape[1],)))\n",
    "model.add(layers.Dense(128, activation='relu'))\n",
    "# model.add(Dropout(0.4))\n",
    "model.add(layers.Dense(64, activation='relu'))\n",
    "# model.add(Dropout(0.4))\n",
    "model.add(layers.Dense(10, activation='softmax'))\n",
    "model.compile(optimizer='adam',\n",
    "          loss='sparse_categorical_crossentropy',\n",
    "          metrics=['accuracy'])\n",
    "history = model.fit(x_train, y_train,\n",
    "                epochs=20,\n",
    "                batch_size=128)\n",
    "test_loss, test_acc = model.evaluate(x_test,y_test)\n",
    "print(test_acc)"
   ]
  },
  {
   "cell_type": "code",
   "execution_count": null,
   "metadata": {},
   "outputs": [],
   "source": []
  },
  {
   "cell_type": "code",
   "execution_count": null,
   "metadata": {},
   "outputs": [],
   "source": []
  }
 ],
 "metadata": {
  "kernelspec": {
   "display_name": "Python 3",
   "language": "python",
   "name": "python3"
  },
  "language_info": {
   "codemirror_mode": {
    "name": "ipython",
    "version": 3
   },
   "file_extension": ".py",
   "mimetype": "text/x-python",
   "name": "python",
   "nbconvert_exporter": "python",
   "pygments_lexer": "ipython3",
   "version": "3.7.6"
  }
 },
 "nbformat": 4,
 "nbformat_minor": 4
}
